{
 "metadata": {
  "language_info": {
   "codemirror_mode": {
    "name": "ipython",
    "version": 3
   },
   "file_extension": ".py",
   "mimetype": "text/x-python",
   "name": "python",
   "nbconvert_exporter": "python",
   "pygments_lexer": "ipython3",
   "version": "3.7.9-final"
  },
  "orig_nbformat": 2,
  "kernelspec": {
   "name": "python379jvsc74a57bd0627e722b8a5d0e780c3a121348d0cbab2d03dd71bd45c55d50f3a4c5978e791a",
   "display_name": "Python 3.7.9 64-bit"
  },
  "metadata": {
   "interpreter": {
    "hash": "627e722b8a5d0e780c3a121348d0cbab2d03dd71bd45c55d50f3a4c5978e791a"
   }
  }
 },
 "nbformat": 4,
 "nbformat_minor": 2,
 "cells": [
  {
   "cell_type": "code",
   "execution_count": 1,
   "metadata": {},
   "outputs": [],
   "source": [
    "#import library\n",
    "from actgpaw import utils as ut"
   ]
  },
  {
   "source": [
    "#create big directories\n",
    "ut.create_big_dir()"
   ],
   "cell_type": "code",
   "metadata": {},
   "execution_count": 2,
   "outputs": []
  },
  {
   "cell_type": "code",
   "execution_count": 3,
   "metadata": {},
   "outputs": [],
   "source": [
    "#download cif file from materials project\n",
    "API_key='you-api-key'\n",
    "pretty_formula='Cu'\n",
    "ut.cif_grabber(API_key,pretty_formula)"
   ]
  },
  {
   "cell_type": "code",
   "execution_count": 2,
   "metadata": {},
   "outputs": [
    {
     "output_type": "stream",
     "name": "stdout",
     "text": [
      "WARNING: Cu_mp-30 directory already exists!\n",
      "Cu_mp-30 bulk directory created!\n"
     ]
    }
   ],
   "source": [
    "#create element dir and bulk convergence dir\n",
    "from glob import glob\n",
    "import re\n",
    "element_ls=glob('orig_cif_data/**.cif')\n",
    "for element in element_ls:\n",
    "    element=re.split('\\.',element)[0].split('/')[1]\n",
    "    ut.create_element_dir(element,options=['bulk'],optimized_parameters=['h','k','sw'])"
   ]
  },
  {
   "cell_type": "code",
   "execution_count": 2,
   "metadata": {},
   "outputs": [
    {
     "output_type": "stream",
     "name": "stdout",
     "text": [
      "WARNING: Cu_mp-30 directory already exists!\n",
      "Cu_mp-30 surf directories created!\n"
     ]
    }
   ],
   "source": [
    "#create surface convergence dir\n",
    "element='Cu_mp-30'\n",
    "ut.create_element_dir(element,options=['surf'],surf_struc=['111'],\n",
    "                        starting_layer=4,interval=2)\n"
   ]
  },
  {
   "cell_type": "code",
   "execution_count": null,
   "metadata": {},
   "outputs": [],
   "source": []
  }
 ]
}